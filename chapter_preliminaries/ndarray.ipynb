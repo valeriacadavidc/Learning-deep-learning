{
  "cells": [
    {
      "cell_type": "markdown",
      "id": "0de623d7",
      "metadata": {
        "origin_pos": 1,
        "id": "0de623d7"
      },
      "source": [
        "# Data Manipulation\n",
        ":label:`sec_ndarray`\n",
        "\n",
        "In order to get anything done,\n",
        "we need some way to store and manipulate data.\n",
        "Generally, there are two important things\n",
        "we need to do with data:\n",
        "(i) acquire them;\n",
        "and (ii) process them once they are inside the computer.\n",
        "There is no point in acquiring data\n",
        "without some way to store it,\n",
        "so to start, let's get our hands dirty\n",
        "with $n$-dimensional arrays,\n",
        "which we also call *tensors*.\n",
        "If you already know the NumPy\n",
        "scientific computing package,\n",
        "this will be a breeze.\n",
        "For all modern deep learning frameworks,\n",
        "the *tensor class* (`ndarray` in MXNet,\n",
        "`Tensor` in PyTorch and TensorFlow)\n",
        "resembles NumPy's `ndarray`,\n",
        "with a few killer features added.\n",
        "First, the tensor class\n",
        "supports automatic differentiation.\n",
        "Second, it leverages GPUs\n",
        "to accelerate numerical computation,\n",
        "whereas NumPy only runs on CPUs.\n",
        "These properties make neural networks\n",
        "both easy to code and fast to run.\n",
        "\n",
        "\n",
        "\n",
        "## Getting Started\n"
      ]
    },
    {
      "cell_type": "markdown",
      "id": "084dc517",
      "metadata": {
        "origin_pos": 3,
        "tab": [
          "pytorch"
        ],
        "id": "084dc517"
      },
      "source": [
        "(**To start, we import the PyTorch library.\n",
        "Note that the package name is `torch`.**)\n"
      ]
    },
    {
      "cell_type": "code",
      "execution_count": 6,
      "id": "01fa8e58",
      "metadata": {
        "execution": {
          "iopub.execute_input": "2023-08-18T19:32:55.152236Z",
          "iopub.status.busy": "2023-08-18T19:32:55.151500Z",
          "iopub.status.idle": "2023-08-18T19:32:57.051589Z",
          "shell.execute_reply": "2023-08-18T19:32:57.050409Z"
        },
        "origin_pos": 6,
        "tab": [
          "pytorch"
        ],
        "id": "01fa8e58"
      },
      "outputs": [],
      "source": [
        "import torch"
      ]
    },
    {
      "cell_type": "markdown",
      "id": "8d828de8",
      "metadata": {
        "origin_pos": 9,
        "id": "8d828de8"
      },
      "source": [
        "[**A tensor represents a (possibly multidimensional) array of numerical values.**]\n",
        "In the one-dimensional case, i.e., when only one axis is needed for the data,\n",
        "a tensor is called a *vector*.\n",
        "With two axes, a tensor is called a *matrix*.\n",
        "With $k > 2$ axes, we drop the specialized names\n",
        "and just refer to the object as a $k^\\textrm{th}$-*order tensor*.\n"
      ]
    },
    {
      "cell_type": "markdown",
      "id": "1a471639",
      "metadata": {
        "origin_pos": 11,
        "tab": [
          "pytorch"
        ],
        "id": "1a471639"
      },
      "source": [
        "PyTorch provides a variety of functions\n",
        "for creating new tensors\n",
        "prepopulated with values.\n",
        "For example, by invoking `arange(n)`,\n",
        "we can create a vector of evenly spaced values,\n",
        "starting at 0 (included)\n",
        "and ending at `n` (not included).\n",
        "By default, the interval size is $1$.\n",
        "Unless otherwise specified,\n",
        "new tensors are stored in main memory\n",
        "and designated for CPU-based computation.\n"
      ]
    },
    {
      "cell_type": "code",
      "execution_count": 7,
      "id": "b6aa30a9",
      "metadata": {
        "execution": {
          "iopub.execute_input": "2023-08-18T19:32:57.056039Z",
          "iopub.status.busy": "2023-08-18T19:32:57.055276Z",
          "iopub.status.idle": "2023-08-18T19:32:57.089028Z",
          "shell.execute_reply": "2023-08-18T19:32:57.088195Z"
        },
        "origin_pos": 14,
        "tab": [
          "pytorch"
        ],
        "colab": {
          "base_uri": "https://localhost:8080/"
        },
        "id": "b6aa30a9",
        "outputId": "bbf81967-15d6-4da0-f40d-6a9053f48598"
      },
      "outputs": [
        {
          "output_type": "execute_result",
          "data": {
            "text/plain": [
              "tensor([ 0.,  1.,  2.,  3.,  4.,  5.,  6.,  7.,  8.,  9., 10., 11.])"
            ]
          },
          "metadata": {},
          "execution_count": 7
        }
      ],
      "source": [
        "x = torch.arange(12, dtype=torch.float32)\n",
        "x"
      ]
    },
    {
      "cell_type": "markdown",
      "id": "1a12b5d8",
      "metadata": {
        "origin_pos": 18,
        "tab": [
          "pytorch"
        ],
        "id": "1a12b5d8"
      },
      "source": [
        "Each of these values is called\n",
        "an *element* of the tensor.\n",
        "The tensor `x` contains 12 elements.\n",
        "We can inspect the total number of elements\n",
        "in a tensor via its `numel` method.\n"
      ]
    },
    {
      "cell_type": "code",
      "execution_count": 8,
      "id": "640cadaf",
      "metadata": {
        "execution": {
          "iopub.execute_input": "2023-08-18T19:32:57.093138Z",
          "iopub.status.busy": "2023-08-18T19:32:57.092473Z",
          "iopub.status.idle": "2023-08-18T19:32:57.098450Z",
          "shell.execute_reply": "2023-08-18T19:32:57.097452Z"
        },
        "origin_pos": 21,
        "tab": [
          "pytorch"
        ],
        "colab": {
          "base_uri": "https://localhost:8080/"
        },
        "id": "640cadaf",
        "outputId": "e3a09f62-011f-4bba-aa76-c5f913508d82"
      },
      "outputs": [
        {
          "output_type": "execute_result",
          "data": {
            "text/plain": [
              "12"
            ]
          },
          "metadata": {},
          "execution_count": 8
        }
      ],
      "source": [
        "x.numel()"
      ]
    },
    {
      "cell_type": "markdown",
      "id": "d50c7483",
      "metadata": {
        "origin_pos": 23,
        "id": "d50c7483"
      },
      "source": [
        "(**We can access a tensor's *shape***)\n",
        "(the length along each axis)\n",
        "by inspecting its `shape` attribute.\n",
        "Because we are dealing with a vector here,\n",
        "the `shape` contains just a single element\n",
        "and is identical to the size.\n"
      ]
    },
    {
      "cell_type": "code",
      "execution_count": 9,
      "id": "6e0a9616",
      "metadata": {
        "execution": {
          "iopub.execute_input": "2023-08-18T19:32:57.102194Z",
          "iopub.status.busy": "2023-08-18T19:32:57.101575Z",
          "iopub.status.idle": "2023-08-18T19:32:57.107424Z",
          "shell.execute_reply": "2023-08-18T19:32:57.106501Z"
        },
        "origin_pos": 24,
        "tab": [
          "pytorch"
        ],
        "colab": {
          "base_uri": "https://localhost:8080/"
        },
        "id": "6e0a9616",
        "outputId": "da97be46-6877-4097-c1e0-1870e97d0678"
      },
      "outputs": [
        {
          "output_type": "execute_result",
          "data": {
            "text/plain": [
              "torch.Size([12])"
            ]
          },
          "metadata": {},
          "execution_count": 9
        }
      ],
      "source": [
        "x.shape"
      ]
    },
    {
      "cell_type": "markdown",
      "id": "5c60413a",
      "metadata": {
        "origin_pos": 25,
        "id": "5c60413a"
      },
      "source": [
        "We can [**change the shape of a tensor\n",
        "without altering its size or values**],\n",
        "by invoking `reshape`.\n",
        "For example, we can transform\n",
        "our vector `x` whose shape is (12,)\n",
        "to a matrix `X`  with shape (3, 4).\n",
        "This new tensor retains all elements\n",
        "but reconfigures them into a matrix.\n",
        "Notice that the elements of our vector\n",
        "are laid out one row at a time and thus\n",
        "`x[3] == X[0, 3]`.\n"
      ]
    },
    {
      "cell_type": "code",
      "execution_count": 18,
      "id": "6092207c",
      "metadata": {
        "execution": {
          "iopub.execute_input": "2023-08-18T19:32:57.111467Z",
          "iopub.status.busy": "2023-08-18T19:32:57.110749Z",
          "iopub.status.idle": "2023-08-18T19:32:57.117759Z",
          "shell.execute_reply": "2023-08-18T19:32:57.116917Z"
        },
        "origin_pos": 26,
        "tab": [
          "pytorch"
        ],
        "colab": {
          "base_uri": "https://localhost:8080/"
        },
        "id": "6092207c",
        "outputId": "4e0fc83c-9370-4256-e437-2ccc8f087cdc"
      },
      "outputs": [
        {
          "output_type": "execute_result",
          "data": {
            "text/plain": [
              "tensor([[ 0.,  1.,  2.,  3.],\n",
              "        [ 4.,  5.,  6.,  7.],\n",
              "        [ 8.,  9., 10., 11.]])"
            ]
          },
          "metadata": {},
          "execution_count": 18
        }
      ],
      "source": [
        "X = x.reshape(3, 4)\n",
        "X"
      ]
    },
    {
      "cell_type": "markdown",
      "id": "2d2e1706",
      "metadata": {
        "origin_pos": 28,
        "id": "2d2e1706"
      },
      "source": [
        "Note that specifying every shape component\n",
        "to `reshape` is redundant.\n",
        "Because we already know our tensor's size,\n",
        "we can work out one component of the shape given the rest.\n",
        "For example, given a tensor of size $n$\n",
        "and target shape ($h$, $w$),\n",
        "we know that $w = n/h$.\n",
        "To automatically infer one component of the shape,\n",
        "we can place a `-1` for the shape component\n",
        "that should be inferred automatically.\n",
        "In our case, instead of calling `x.reshape(3, 4)`,\n",
        "we could have equivalently called `x.reshape(-1, 4)` or `x.reshape(3, -1)`.\n",
        "\n",
        "Practitioners often need to work with tensors\n",
        "initialized to contain all 0s or 1s.\n",
        "[**We can construct a tensor with all elements set to 0**] (~~or one~~)\n",
        "and a shape of (2, 3, 4) via the `zeros` function.\n"
      ]
    },
    {
      "cell_type": "code",
      "execution_count": 10,
      "id": "383cafca",
      "metadata": {
        "execution": {
          "iopub.execute_input": "2023-08-18T19:32:57.122018Z",
          "iopub.status.busy": "2023-08-18T19:32:57.121194Z",
          "iopub.status.idle": "2023-08-18T19:32:57.128294Z",
          "shell.execute_reply": "2023-08-18T19:32:57.127285Z"
        },
        "origin_pos": 30,
        "tab": [
          "pytorch"
        ],
        "colab": {
          "base_uri": "https://localhost:8080/"
        },
        "id": "383cafca",
        "outputId": "d01c1b56-3ab2-4cdf-e45e-2cb9065e83ab"
      },
      "outputs": [
        {
          "output_type": "execute_result",
          "data": {
            "text/plain": [
              "tensor([[[0., 0., 0., 0.],\n",
              "         [0., 0., 0., 0.],\n",
              "         [0., 0., 0., 0.]],\n",
              "\n",
              "        [[0., 0., 0., 0.],\n",
              "         [0., 0., 0., 0.],\n",
              "         [0., 0., 0., 0.]]])"
            ]
          },
          "metadata": {},
          "execution_count": 10
        }
      ],
      "source": [
        "torch.zeros((2, 3, 4))"
      ]
    },
    {
      "cell_type": "markdown",
      "id": "1e967d02",
      "metadata": {
        "origin_pos": 33,
        "id": "1e967d02"
      },
      "source": [
        "Similarly, we can create a tensor\n",
        "with all 1s by invoking `ones`.\n"
      ]
    },
    {
      "cell_type": "code",
      "execution_count": 11,
      "id": "0ea249d4",
      "metadata": {
        "execution": {
          "iopub.execute_input": "2023-08-18T19:32:57.132534Z",
          "iopub.status.busy": "2023-08-18T19:32:57.131716Z",
          "iopub.status.idle": "2023-08-18T19:32:57.139029Z",
          "shell.execute_reply": "2023-08-18T19:32:57.138135Z"
        },
        "origin_pos": 35,
        "tab": [
          "pytorch"
        ],
        "colab": {
          "base_uri": "https://localhost:8080/"
        },
        "id": "0ea249d4",
        "outputId": "79666e9a-bbd0-43e1-a403-33050e77ee93"
      },
      "outputs": [
        {
          "output_type": "execute_result",
          "data": {
            "text/plain": [
              "tensor([[[1., 1., 1., 1.],\n",
              "         [1., 1., 1., 1.],\n",
              "         [1., 1., 1., 1.]],\n",
              "\n",
              "        [[1., 1., 1., 1.],\n",
              "         [1., 1., 1., 1.],\n",
              "         [1., 1., 1., 1.]]])"
            ]
          },
          "metadata": {},
          "execution_count": 11
        }
      ],
      "source": [
        "torch.ones((2, 3, 4))"
      ]
    },
    {
      "cell_type": "markdown",
      "id": "0615f2d6",
      "metadata": {
        "origin_pos": 38,
        "id": "0615f2d6"
      },
      "source": [
        "We often wish to\n",
        "[**sample each element randomly (and independently)**]\n",
        "from a given probability distribution.\n",
        "For example, the parameters of neural networks\n",
        "are often initialized randomly.\n",
        "The following snippet creates a tensor\n",
        "with elements drawn from\n",
        "a standard Gaussian (normal) distribution\n",
        "with mean 0 and standard deviation 1.\n"
      ]
    },
    {
      "cell_type": "code",
      "execution_count": 14,
      "id": "2254595d",
      "metadata": {
        "execution": {
          "iopub.execute_input": "2023-08-18T19:32:57.143051Z",
          "iopub.status.busy": "2023-08-18T19:32:57.142388Z",
          "iopub.status.idle": "2023-08-18T19:32:57.149695Z",
          "shell.execute_reply": "2023-08-18T19:32:57.148813Z"
        },
        "origin_pos": 40,
        "tab": [
          "pytorch"
        ],
        "colab": {
          "base_uri": "https://localhost:8080/"
        },
        "id": "2254595d",
        "outputId": "a30996ed-850c-4055-f816-5d332fd8aa5e"
      },
      "outputs": [
        {
          "output_type": "execute_result",
          "data": {
            "text/plain": [
              "tensor([[ 1.0604, -1.0804,  0.1181, -1.0772],\n",
              "        [ 1.2958,  0.4884,  1.2722,  0.8018],\n",
              "        [-1.3112,  0.4346,  1.5930, -1.4427]])"
            ]
          },
          "metadata": {},
          "execution_count": 14
        }
      ],
      "source": [
        "torch.randn(3, 4)"
      ]
    },
    {
      "cell_type": "markdown",
      "id": "d35eda39",
      "metadata": {
        "origin_pos": 43,
        "id": "d35eda39"
      },
      "source": [
        "Finally, we can construct tensors by\n",
        "[**supplying the exact values for each element**]\n",
        "by supplying (possibly nested) Python list(s)\n",
        "containing numerical literals.\n",
        "Here, we construct a matrix with a list of lists,\n",
        "where the outermost list corresponds to axis 0,\n",
        "and the inner list corresponds to axis 1.\n"
      ]
    },
    {
      "cell_type": "code",
      "execution_count": 15,
      "id": "b26863d8",
      "metadata": {
        "execution": {
          "iopub.execute_input": "2023-08-18T19:32:57.153567Z",
          "iopub.status.busy": "2023-08-18T19:32:57.153222Z",
          "iopub.status.idle": "2023-08-18T19:32:57.160436Z",
          "shell.execute_reply": "2023-08-18T19:32:57.159548Z"
        },
        "origin_pos": 45,
        "tab": [
          "pytorch"
        ],
        "colab": {
          "base_uri": "https://localhost:8080/"
        },
        "id": "b26863d8",
        "outputId": "6ac460f9-09f3-4bf4-fb0a-7be46660b53f"
      },
      "outputs": [
        {
          "output_type": "execute_result",
          "data": {
            "text/plain": [
              "tensor([[2, 1, 4, 3],\n",
              "        [1, 2, 3, 4],\n",
              "        [4, 3, 2, 1]])"
            ]
          },
          "metadata": {},
          "execution_count": 15
        }
      ],
      "source": [
        "torch.tensor([[2, 1, 4, 3], [1, 2, 3, 4], [4, 3, 2, 1]])"
      ]
    },
    {
      "cell_type": "markdown",
      "id": "5b589cdb",
      "metadata": {
        "origin_pos": 48,
        "id": "5b589cdb"
      },
      "source": [
        "## Indexing and Slicing\n",
        "\n",
        "As with  Python lists,\n",
        "we can access tensor elements\n",
        "by indexing (starting with 0).\n",
        "To access an element based on its position\n",
        "relative to the end of the list,\n",
        "we can use negative indexing.\n",
        "Finally, we can access whole ranges of indices\n",
        "via slicing (e.g., `X[start:stop]`),\n",
        "where the returned value includes\n",
        "the first index (`start`) *but not the last* (`stop`).\n",
        "Finally, when only one index (or slice)\n",
        "is specified for a $k^\\textrm{th}$-order tensor,\n",
        "it is applied along axis 0.\n",
        "Thus, in the following code,\n",
        "[**`[-1]` selects the last row and `[1:3]`\n",
        "selects the second and third rows**].\n"
      ]
    },
    {
      "cell_type": "code",
      "execution_count": 19,
      "id": "d9049a53",
      "metadata": {
        "execution": {
          "iopub.execute_input": "2023-08-18T19:32:57.164537Z",
          "iopub.status.busy": "2023-08-18T19:32:57.163812Z",
          "iopub.status.idle": "2023-08-18T19:32:57.171699Z",
          "shell.execute_reply": "2023-08-18T19:32:57.170451Z"
        },
        "origin_pos": 49,
        "tab": [
          "pytorch"
        ],
        "colab": {
          "base_uri": "https://localhost:8080/"
        },
        "id": "d9049a53",
        "outputId": "250ad11e-4730-4a13-e791-c9f7c87c11b2"
      },
      "outputs": [
        {
          "output_type": "execute_result",
          "data": {
            "text/plain": [
              "(tensor([[ 0.,  1.,  2.,  3.],\n",
              "         [ 4.,  5.,  6.,  7.],\n",
              "         [ 8.,  9., 10., 11.]]),\n",
              " tensor([ 8.,  9., 10., 11.]),\n",
              " tensor([[ 4.,  5.,  6.,  7.],\n",
              "         [ 8.,  9., 10., 11.]]))"
            ]
          },
          "metadata": {},
          "execution_count": 19
        }
      ],
      "source": [
        "X = torch.arange(12, dtype=torch.float32).reshape(3, 4)\n",
        "X, X[-1], X[1:3]"
      ]
    },
    {
      "cell_type": "markdown",
      "id": "5450673b",
      "metadata": {
        "origin_pos": 50,
        "tab": [
          "pytorch"
        ],
        "id": "5450673b"
      },
      "source": [
        "Beyond reading them, (**we can also *write* elements of a matrix by specifying indices.**)\n"
      ]
    },
    {
      "cell_type": "code",
      "execution_count": 20,
      "id": "9246619c",
      "metadata": {
        "execution": {
          "iopub.execute_input": "2023-08-18T19:32:57.176047Z",
          "iopub.status.busy": "2023-08-18T19:32:57.175685Z",
          "iopub.status.idle": "2023-08-18T19:32:57.182893Z",
          "shell.execute_reply": "2023-08-18T19:32:57.181890Z"
        },
        "origin_pos": 52,
        "tab": [
          "pytorch"
        ],
        "colab": {
          "base_uri": "https://localhost:8080/"
        },
        "id": "9246619c",
        "outputId": "e57a16d8-b947-4d18-aff7-d3f039b15f64"
      },
      "outputs": [
        {
          "output_type": "execute_result",
          "data": {
            "text/plain": [
              "tensor([[ 0.,  1.,  2.,  3.],\n",
              "        [ 4.,  5., 17.,  7.],\n",
              "        [ 8.,  9., 10., 11.]])"
            ]
          },
          "metadata": {},
          "execution_count": 20
        }
      ],
      "source": [
        "X[1, 2] = 17\n",
        "X"
      ]
    },
    {
      "cell_type": "markdown",
      "id": "31f06903",
      "metadata": {
        "origin_pos": 55,
        "id": "31f06903"
      },
      "source": [
        "If we want [**to assign multiple elements the same value,\n",
        "we apply the indexing on the left-hand side\n",
        "of the assignment operation.**]\n",
        "For instance, `[:2, :]`  accesses\n",
        "the first and second rows,\n",
        "where `:` takes all the elements along axis 1 (column).\n",
        "While we discussed indexing for matrices,\n",
        "this also works for vectors\n",
        "and for tensors of more than two dimensions.\n"
      ]
    },
    {
      "cell_type": "code",
      "execution_count": 21,
      "id": "0532f024",
      "metadata": {
        "execution": {
          "iopub.execute_input": "2023-08-18T19:32:57.186970Z",
          "iopub.status.busy": "2023-08-18T19:32:57.186270Z",
          "iopub.status.idle": "2023-08-18T19:32:57.193303Z",
          "shell.execute_reply": "2023-08-18T19:32:57.192338Z"
        },
        "origin_pos": 56,
        "tab": [
          "pytorch"
        ],
        "colab": {
          "base_uri": "https://localhost:8080/"
        },
        "id": "0532f024",
        "outputId": "952cad13-4e97-4e1a-f494-4d2903aa56bd"
      },
      "outputs": [
        {
          "output_type": "execute_result",
          "data": {
            "text/plain": [
              "tensor([[12., 12., 12., 12.],\n",
              "        [12., 12., 12., 12.],\n",
              "        [ 8.,  9., 10., 11.]])"
            ]
          },
          "metadata": {},
          "execution_count": 21
        }
      ],
      "source": [
        "X[:2, :] = 12\n",
        "X"
      ]
    },
    {
      "cell_type": "markdown",
      "id": "02cdce97",
      "metadata": {
        "origin_pos": 59,
        "id": "02cdce97"
      },
      "source": [
        "## Operations\n",
        "\n",
        "Now that we know how to construct tensors\n",
        "and how to read from and write to their elements,\n",
        "we can begin to manipulate them\n",
        "with various mathematical operations.\n",
        "Among the most useful of these\n",
        "are the *elementwise* operations.\n",
        "These apply a standard scalar operation\n",
        "to each element of a tensor.\n",
        "For functions that take two tensors as inputs,\n",
        "elementwise operations apply some standard binary operator\n",
        "on each pair of corresponding elements.\n",
        "We can create an elementwise function\n",
        "from any function that maps\n",
        "from a scalar to a scalar.\n",
        "\n",
        "In mathematical notation, we denote such\n",
        "*unary* scalar operators (taking one input)\n",
        "by the signature\n",
        "$f: \\mathbb{R} \\rightarrow \\mathbb{R}$.\n",
        "This just means that the function maps\n",
        "from any real number onto some other real number.\n",
        "Most standard operators, including unary ones like $e^x$, can be applied elementwise.\n"
      ]
    },
    {
      "cell_type": "code",
      "execution_count": 22,
      "id": "6dd6724c",
      "metadata": {
        "execution": {
          "iopub.execute_input": "2023-08-18T19:32:57.197301Z",
          "iopub.status.busy": "2023-08-18T19:32:57.196599Z",
          "iopub.status.idle": "2023-08-18T19:32:57.206136Z",
          "shell.execute_reply": "2023-08-18T19:32:57.205188Z"
        },
        "origin_pos": 61,
        "tab": [
          "pytorch"
        ],
        "colab": {
          "base_uri": "https://localhost:8080/"
        },
        "id": "6dd6724c",
        "outputId": "af516a6c-2b9e-4d3c-8c65-2e10b8e0a3f3"
      },
      "outputs": [
        {
          "output_type": "execute_result",
          "data": {
            "text/plain": [
              "(tensor([ 0.,  1.,  2.,  3.,  4.,  5.,  6.,  7.,  8.,  9., 10., 11.]),\n",
              " tensor([1.0000e+00, 2.7183e+00, 7.3891e+00, 2.0086e+01, 5.4598e+01, 1.4841e+02,\n",
              "         4.0343e+02, 1.0966e+03, 2.9810e+03, 8.1031e+03, 2.2026e+04, 5.9874e+04]))"
            ]
          },
          "metadata": {},
          "execution_count": 22
        }
      ],
      "source": [
        "x,torch.exp(x)"
      ]
    },
    {
      "cell_type": "markdown",
      "id": "b70f353f",
      "metadata": {
        "origin_pos": 64,
        "id": "b70f353f"
      },
      "source": [
        "Likewise, we denote *binary* scalar operators,\n",
        "which map pairs of real numbers\n",
        "to a (single) real number\n",
        "via the signature\n",
        "$f: \\mathbb{R}, \\mathbb{R} \\rightarrow \\mathbb{R}$.\n",
        "Given any two vectors $\\mathbf{u}$\n",
        "and $\\mathbf{v}$ *of the same shape*,\n",
        "and a binary operator $f$, we can produce a vector\n",
        "$\\mathbf{c} = F(\\mathbf{u},\\mathbf{v})$\n",
        "by setting $c_i \\gets f(u_i, v_i)$ for all $i$,\n",
        "where $c_i, u_i$, and $v_i$ are the $i^\\textrm{th}$ elements\n",
        "of vectors $\\mathbf{c}, \\mathbf{u}$, and $\\mathbf{v}$.\n",
        "Here, we produced the vector-valued\n",
        "$F: \\mathbb{R}^d, \\mathbb{R}^d \\rightarrow \\mathbb{R}^d$\n",
        "by *lifting* the scalar function\n",
        "to an elementwise vector operation.\n",
        "The common standard arithmetic operators\n",
        "for addition (`+`), subtraction (`-`),\n",
        "multiplication (`*`), division (`/`),\n",
        "and exponentiation (`**`)\n",
        "have all been *lifted* to elementwise operations\n",
        "for identically-shaped tensors of arbitrary shape.\n"
      ]
    },
    {
      "cell_type": "code",
      "execution_count": 23,
      "id": "89bc996d",
      "metadata": {
        "execution": {
          "iopub.execute_input": "2023-08-18T19:32:57.210417Z",
          "iopub.status.busy": "2023-08-18T19:32:57.209741Z",
          "iopub.status.idle": "2023-08-18T19:32:57.219298Z",
          "shell.execute_reply": "2023-08-18T19:32:57.218318Z"
        },
        "origin_pos": 66,
        "tab": [
          "pytorch"
        ],
        "colab": {
          "base_uri": "https://localhost:8080/"
        },
        "id": "89bc996d",
        "outputId": "fb945bcd-e86d-4b14-e31d-11befd878efd"
      },
      "outputs": [
        {
          "output_type": "execute_result",
          "data": {
            "text/plain": [
              "(tensor([ 3.,  4.,  6., 10.]),\n",
              " tensor([-1.,  0.,  2.,  6.]),\n",
              " tensor([ 2.,  4.,  8., 16.]),\n",
              " tensor([0.5000, 1.0000, 2.0000, 4.0000]),\n",
              " tensor([ 1.,  4., 16., 64.]))"
            ]
          },
          "metadata": {},
          "execution_count": 23
        }
      ],
      "source": [
        "x = torch.tensor([1.0, 2, 4, 8])\n",
        "y = torch.tensor([2, 2, 2, 2])\n",
        "x + y, x - y, x * y, x / y, x ** y"
      ]
    },
    {
      "cell_type": "markdown",
      "id": "04ae1d38",
      "metadata": {
        "origin_pos": 69,
        "id": "04ae1d38"
      },
      "source": [
        "In addition to elementwise computations,\n",
        "we can also perform linear algebraic operations,\n",
        "such as dot products and matrix multiplications.\n",
        "We will elaborate on these\n",
        "in :numref:`sec_linear-algebra`.\n",
        "\n",
        "We can also [***concatenate* multiple tensors,**]\n",
        "stacking them end-to-end to form a larger one.\n",
        "We just need to provide a list of tensors\n",
        "and tell the system along which axis to concatenate.\n",
        "The example below shows what happens when we concatenate\n",
        "two matrices along rows (axis 0)\n",
        "instead of columns (axis 1).\n",
        "We can see that the first output's axis-0 length ($6$)\n",
        "is the sum of the two input tensors' axis-0 lengths ($3 + 3$);\n",
        "while the second output's axis-1 length ($8$)\n",
        "is the sum of the two input tensors' axis-1 lengths ($4 + 4$).\n"
      ]
    },
    {
      "cell_type": "code",
      "execution_count": 24,
      "id": "43aa9012",
      "metadata": {
        "execution": {
          "iopub.execute_input": "2023-08-18T19:32:57.223534Z",
          "iopub.status.busy": "2023-08-18T19:32:57.222711Z",
          "iopub.status.idle": "2023-08-18T19:32:57.233166Z",
          "shell.execute_reply": "2023-08-18T19:32:57.232145Z"
        },
        "origin_pos": 71,
        "tab": [
          "pytorch"
        ],
        "colab": {
          "base_uri": "https://localhost:8080/"
        },
        "id": "43aa9012",
        "outputId": "2da656a6-cfb7-4170-fa9d-fb2197db1d6b"
      },
      "outputs": [
        {
          "output_type": "execute_result",
          "data": {
            "text/plain": [
              "(tensor([[ 0.,  1.,  2.,  3.],\n",
              "         [ 4.,  5.,  6.,  7.],\n",
              "         [ 8.,  9., 10., 11.],\n",
              "         [ 2.,  1.,  4.,  3.],\n",
              "         [ 1.,  2.,  3.,  4.],\n",
              "         [ 4.,  3.,  2.,  1.]]),\n",
              " tensor([[ 0.,  1.,  2.,  3.,  2.,  1.,  4.,  3.],\n",
              "         [ 4.,  5.,  6.,  7.,  1.,  2.,  3.,  4.],\n",
              "         [ 8.,  9., 10., 11.,  4.,  3.,  2.,  1.]]))"
            ]
          },
          "metadata": {},
          "execution_count": 24
        }
      ],
      "source": [
        "X = torch.arange(12, dtype=torch.float32).reshape((3,4))\n",
        "Y = torch.tensor([[2.0, 1, 4, 3], [1, 2, 3, 4], [4, 3, 2, 1]])\n",
        "torch.cat((X, Y), dim=0), torch.cat((X, Y), dim=1)"
      ]
    },
    {
      "cell_type": "markdown",
      "id": "346adeed",
      "metadata": {
        "origin_pos": 74,
        "id": "346adeed"
      },
      "source": [
        "Sometimes, we want to\n",
        "[**construct a binary tensor via *logical statements*.**]\n",
        "Take `X == Y` as an example.\n",
        "For each position `i, j`, if `X[i, j]` and `Y[i, j]` are equal,\n",
        "then the corresponding entry in the result takes value `1`,\n",
        "otherwise it takes value `0`.\n"
      ]
    },
    {
      "cell_type": "code",
      "execution_count": 25,
      "id": "91d39e58",
      "metadata": {
        "execution": {
          "iopub.execute_input": "2023-08-18T19:32:57.237276Z",
          "iopub.status.busy": "2023-08-18T19:32:57.236485Z",
          "iopub.status.idle": "2023-08-18T19:32:57.243133Z",
          "shell.execute_reply": "2023-08-18T19:32:57.242117Z"
        },
        "origin_pos": 75,
        "tab": [
          "pytorch"
        ],
        "colab": {
          "base_uri": "https://localhost:8080/"
        },
        "id": "91d39e58",
        "outputId": "53c335b8-67fc-4867-f45d-c1203ed9e074"
      },
      "outputs": [
        {
          "output_type": "execute_result",
          "data": {
            "text/plain": [
              "tensor([[False,  True, False,  True],\n",
              "        [False, False, False, False],\n",
              "        [False, False, False, False]])"
            ]
          },
          "metadata": {},
          "execution_count": 25
        }
      ],
      "source": [
        "X == Y"
      ]
    },
    {
      "cell_type": "markdown",
      "id": "00448db5",
      "metadata": {
        "origin_pos": 76,
        "id": "00448db5"
      },
      "source": [
        "[**Summing all the elements in the tensor**] yields a tensor with only one element.\n"
      ]
    },
    {
      "cell_type": "code",
      "execution_count": 26,
      "id": "080b0125",
      "metadata": {
        "execution": {
          "iopub.execute_input": "2023-08-18T19:32:57.247142Z",
          "iopub.status.busy": "2023-08-18T19:32:57.246480Z",
          "iopub.status.idle": "2023-08-18T19:32:57.253117Z",
          "shell.execute_reply": "2023-08-18T19:32:57.252212Z"
        },
        "origin_pos": 77,
        "tab": [
          "pytorch"
        ],
        "colab": {
          "base_uri": "https://localhost:8080/"
        },
        "id": "080b0125",
        "outputId": "678f5d8a-0c02-4384-bd55-18fc22b884e6"
      },
      "outputs": [
        {
          "output_type": "execute_result",
          "data": {
            "text/plain": [
              "tensor(66.)"
            ]
          },
          "metadata": {},
          "execution_count": 26
        }
      ],
      "source": [
        "X.sum()"
      ]
    },
    {
      "cell_type": "markdown",
      "id": "e6a78360",
      "metadata": {
        "origin_pos": 79,
        "id": "e6a78360"
      },
      "source": [
        "## Broadcasting\n",
        ":label:`subsec_broadcasting`\n",
        "\n",
        "By now, you know how to perform\n",
        "elementwise binary operations\n",
        "on two tensors of the same shape.\n",
        "Under certain conditions,\n",
        "even when shapes differ,\n",
        "we can still [**perform elementwise binary operations\n",
        "by invoking the *broadcasting mechanism*.**]\n",
        "Broadcasting works according to\n",
        "the following two-step procedure:\n",
        "(i) expand one or both arrays\n",
        "by copying elements along axes with length 1\n",
        "so that after this transformation,\n",
        "the two tensors have the same shape;\n",
        "(ii) perform an elementwise operation\n",
        "on the resulting arrays.\n"
      ]
    },
    {
      "cell_type": "code",
      "execution_count": 28,
      "id": "be37d2de",
      "metadata": {
        "execution": {
          "iopub.execute_input": "2023-08-18T19:32:57.256932Z",
          "iopub.status.busy": "2023-08-18T19:32:57.256264Z",
          "iopub.status.idle": "2023-08-18T19:32:57.263823Z",
          "shell.execute_reply": "2023-08-18T19:32:57.262881Z"
        },
        "origin_pos": 81,
        "tab": [
          "pytorch"
        ],
        "colab": {
          "base_uri": "https://localhost:8080/"
        },
        "id": "be37d2de",
        "outputId": "4eef825e-d75e-47ef-dd4e-20a69159708b"
      },
      "outputs": [
        {
          "output_type": "execute_result",
          "data": {
            "text/plain": [
              "(tensor([[0],\n",
              "         [1],\n",
              "         [2]]),\n",
              " tensor([[0, 1]]))"
            ]
          },
          "metadata": {},
          "execution_count": 28
        }
      ],
      "source": [
        "a = torch.arange(3).reshape((3, 1))\n",
        "b = torch.arange(2).reshape((1, 2))\n",
        "a, b"
      ]
    },
    {
      "cell_type": "markdown",
      "id": "6c7e8410",
      "metadata": {
        "origin_pos": 84,
        "id": "6c7e8410"
      },
      "source": [
        "Since `a` and `b` are $3\\times1$\n",
        "and $1\\times2$ matrices, respectively,\n",
        "their shapes do not match up.\n",
        "Broadcasting produces a larger $3\\times2$ matrix\n",
        "by replicating matrix `a` along the columns\n",
        "and matrix `b` along the rows\n",
        "before adding them elementwise.\n"
      ]
    },
    {
      "cell_type": "code",
      "execution_count": 29,
      "id": "9f62e827",
      "metadata": {
        "execution": {
          "iopub.execute_input": "2023-08-18T19:32:57.267856Z",
          "iopub.status.busy": "2023-08-18T19:32:57.267172Z",
          "iopub.status.idle": "2023-08-18T19:32:57.273497Z",
          "shell.execute_reply": "2023-08-18T19:32:57.272587Z"
        },
        "origin_pos": 85,
        "tab": [
          "pytorch"
        ],
        "colab": {
          "base_uri": "https://localhost:8080/"
        },
        "id": "9f62e827",
        "outputId": "1ca7fc2c-de2d-4e1a-950b-73542faf6fb2"
      },
      "outputs": [
        {
          "output_type": "execute_result",
          "data": {
            "text/plain": [
              "tensor([[0, 1],\n",
              "        [1, 2],\n",
              "        [2, 3]])"
            ]
          },
          "metadata": {},
          "execution_count": 29
        }
      ],
      "source": [
        "a + b"
      ]
    },
    {
      "cell_type": "markdown",
      "id": "c5d68609",
      "metadata": {
        "origin_pos": 86,
        "id": "c5d68609"
      },
      "source": [
        "## Saving Memory\n",
        "\n",
        "[**Running operations can cause new memory to be\n",
        "allocated to host results.**]\n",
        "For example, if we write `Y = X + Y`,\n",
        "we dereference the tensor that `Y` used to point to\n",
        "and instead point `Y` at the newly allocated memory.\n",
        "We can demonstrate this issue with Python's `id()` function,\n",
        "which gives us the exact address\n",
        "of the referenced object in memory.\n",
        "Note that after we run `Y = Y + X`,\n",
        "`id(Y)` points to a different location.\n",
        "That is because Python first evaluates `Y + X`,\n",
        "allocating new memory for the result\n",
        "and then points `Y` to this new location in memory.\n"
      ]
    },
    {
      "cell_type": "code",
      "execution_count": 30,
      "id": "754a7433",
      "metadata": {
        "execution": {
          "iopub.execute_input": "2023-08-18T19:32:57.277697Z",
          "iopub.status.busy": "2023-08-18T19:32:57.277047Z",
          "iopub.status.idle": "2023-08-18T19:32:57.283549Z",
          "shell.execute_reply": "2023-08-18T19:32:57.282613Z"
        },
        "origin_pos": 87,
        "tab": [
          "pytorch"
        ],
        "colab": {
          "base_uri": "https://localhost:8080/"
        },
        "id": "754a7433",
        "outputId": "afeb9e9b-7269-4379-f9bb-7a18cb72ad31"
      },
      "outputs": [
        {
          "output_type": "execute_result",
          "data": {
            "text/plain": [
              "False"
            ]
          },
          "metadata": {},
          "execution_count": 30
        }
      ],
      "source": [
        "before = id(Y)\n",
        "Y = Y + X\n",
        "id(Y) == before"
      ]
    },
    {
      "cell_type": "markdown",
      "id": "322d26f5",
      "metadata": {
        "origin_pos": 88,
        "id": "322d26f5"
      },
      "source": [
        "This might be undesirable for two reasons.\n",
        "First, we do not want to run around\n",
        "allocating memory unnecessarily all the time.\n",
        "In machine learning, we often have\n",
        "hundreds of megabytes of parameters\n",
        "and update all of them multiple times per second.\n",
        "Whenever possible, we want to perform these updates *in place*.\n",
        "Second, we might point at the\n",
        "same parameters from multiple variables.\n",
        "If we do not update in place,\n",
        "we must be careful to update all of these references,\n",
        "lest we spring a memory leak\n",
        "or inadvertently refer to stale parameters.\n"
      ]
    },
    {
      "cell_type": "markdown",
      "id": "82880947",
      "metadata": {
        "origin_pos": 89,
        "tab": [
          "pytorch"
        ],
        "id": "82880947"
      },
      "source": [
        "Fortunately, (**performing in-place operations**) is easy.\n",
        "We can assign the result of an operation\n",
        "to a previously allocated array `Y`\n",
        "by using slice notation: `Y[:] = <expression>`.\n",
        "To illustrate this concept,\n",
        "we overwrite the values of tensor `Z`,\n",
        "after initializing it, using `zeros_like`,\n",
        "to have the same shape as `Y`.\n"
      ]
    },
    {
      "cell_type": "code",
      "execution_count": 32,
      "id": "c4d62609",
      "metadata": {
        "execution": {
          "iopub.execute_input": "2023-08-18T19:32:57.287695Z",
          "iopub.status.busy": "2023-08-18T19:32:57.286964Z",
          "iopub.status.idle": "2023-08-18T19:32:57.293078Z",
          "shell.execute_reply": "2023-08-18T19:32:57.292048Z"
        },
        "origin_pos": 92,
        "tab": [
          "pytorch"
        ],
        "colab": {
          "base_uri": "https://localhost:8080/"
        },
        "id": "c4d62609",
        "outputId": "70895a53-cb7e-4ab3-a54c-d057ee8ed5a6"
      },
      "outputs": [
        {
          "output_type": "stream",
          "name": "stdout",
          "text": [
            "id(Z): 138912504096976\n",
            "id(Z): 138912504096976\n"
          ]
        }
      ],
      "source": [
        "Z = torch.zeros_like(Y)\n",
        "print('id(Z):', id(Z))\n",
        "Z[:] = X + Y\n",
        "print('id(Z):', id(Z))"
      ]
    },
    {
      "cell_type": "markdown",
      "id": "d745b125",
      "metadata": {
        "origin_pos": 95,
        "tab": [
          "pytorch"
        ],
        "id": "d745b125"
      },
      "source": [
        "[**If the value of `X` is not reused in subsequent computations,\n",
        "we can also use `X[:] = X + Y` or `X += Y`\n",
        "to reduce the memory overhead of the operation.**]\n"
      ]
    },
    {
      "cell_type": "code",
      "execution_count": 31,
      "id": "b8c13447",
      "metadata": {
        "execution": {
          "iopub.execute_input": "2023-08-18T19:32:57.296911Z",
          "iopub.status.busy": "2023-08-18T19:32:57.296361Z",
          "iopub.status.idle": "2023-08-18T19:32:57.302754Z",
          "shell.execute_reply": "2023-08-18T19:32:57.301805Z"
        },
        "origin_pos": 97,
        "tab": [
          "pytorch"
        ],
        "colab": {
          "base_uri": "https://localhost:8080/"
        },
        "id": "b8c13447",
        "outputId": "c0e402b0-2a36-49ce-b982-f5ee7d697bf4"
      },
      "outputs": [
        {
          "output_type": "execute_result",
          "data": {
            "text/plain": [
              "True"
            ]
          },
          "metadata": {},
          "execution_count": 31
        }
      ],
      "source": [
        "before = id(X)\n",
        "X += Y\n",
        "id(X) == before"
      ]
    },
    {
      "cell_type": "markdown",
      "id": "b5f887dd",
      "metadata": {
        "origin_pos": 99,
        "id": "b5f887dd"
      },
      "source": [
        "## Conversion to Other Python Objects\n"
      ]
    },
    {
      "cell_type": "markdown",
      "id": "cd057d04",
      "metadata": {
        "origin_pos": 101,
        "tab": [
          "pytorch"
        ],
        "id": "cd057d04"
      },
      "source": [
        "[**Converting to a NumPy tensor (`ndarray`)**], or vice versa, is easy.\n",
        "The torch tensor and NumPy array\n",
        "will share their underlying memory,\n",
        "and changing one through an in-place operation\n",
        "will also change the other.\n"
      ]
    },
    {
      "cell_type": "code",
      "execution_count": null,
      "id": "576963aa",
      "metadata": {
        "execution": {
          "iopub.execute_input": "2023-08-18T19:32:57.306812Z",
          "iopub.status.busy": "2023-08-18T19:32:57.306088Z",
          "iopub.status.idle": "2023-08-18T19:32:57.312356Z",
          "shell.execute_reply": "2023-08-18T19:32:57.311478Z"
        },
        "origin_pos": 103,
        "tab": [
          "pytorch"
        ],
        "id": "576963aa",
        "outputId": "3ec6be77-9c74-490f-b366-de1966a7d228"
      },
      "outputs": [
        {
          "data": {
            "text/plain": [
              "(numpy.ndarray, torch.Tensor)"
            ]
          },
          "execution_count": 23,
          "metadata": {},
          "output_type": "execute_result"
        }
      ],
      "source": [
        "A = X.numpy()\n",
        "B = torch.from_numpy(A)\n",
        "type(A), type(B)"
      ]
    },
    {
      "cell_type": "markdown",
      "id": "b2def017",
      "metadata": {
        "origin_pos": 106,
        "id": "b2def017"
      },
      "source": [
        "To (**convert a size-1 tensor to a Python scalar**),\n",
        "we can invoke the `item` function or Python's built-in functions.\n"
      ]
    },
    {
      "cell_type": "code",
      "execution_count": null,
      "id": "388c5252",
      "metadata": {
        "execution": {
          "iopub.execute_input": "2023-08-18T19:32:57.316471Z",
          "iopub.status.busy": "2023-08-18T19:32:57.315825Z",
          "iopub.status.idle": "2023-08-18T19:32:57.322867Z",
          "shell.execute_reply": "2023-08-18T19:32:57.322007Z"
        },
        "origin_pos": 108,
        "tab": [
          "pytorch"
        ],
        "id": "388c5252",
        "outputId": "53d440c1-7862-4a6b-eee9-0d50c26b492f"
      },
      "outputs": [
        {
          "data": {
            "text/plain": [
              "(tensor([3.5000]), 3.5, 3.5, 3)"
            ]
          },
          "execution_count": 24,
          "metadata": {},
          "output_type": "execute_result"
        }
      ],
      "source": [
        "a = torch.tensor([3.5])\n",
        "a, a.item(), float(a), int(a)"
      ]
    },
    {
      "cell_type": "markdown",
      "id": "9373077d",
      "metadata": {
        "origin_pos": 111,
        "id": "9373077d"
      },
      "source": [
        "## Summary\n",
        "\n",
        "The tensor class is the main interface for storing and manipulating data in deep learning libraries.\n",
        "Tensors provide a variety of functionalities including construction routines; indexing and slicing; basic mathematics operations; broadcasting; memory-efficient assignment; and conversion to and from other Python objects.\n",
        "\n",
        "\n",
        "## Exercises\n",
        "\n",
        "1. Run the code in this section. Change the conditional statement `X == Y` to `X < Y` or `X > Y`, and then see what kind of tensor you can get.\n",
        "1. Replace the two tensors that operate by element in the broadcasting mechanism with other shapes, e.g., 3-dimensional tensors. Is the result the same as expected?\n"
      ]
    },
    {
      "cell_type": "markdown",
      "source": [
        "1."
      ],
      "metadata": {
        "id": "WfUtbQ9PsZ89"
      },
      "id": "WfUtbQ9PsZ89"
    },
    {
      "cell_type": "code",
      "source": [
        "X, Y"
      ],
      "metadata": {
        "id": "XwD-qo56rbgK",
        "outputId": "61ddfe13-8b6b-4ea9-cddc-572e88da07c9",
        "colab": {
          "base_uri": "https://localhost:8080/"
        }
      },
      "id": "XwD-qo56rbgK",
      "execution_count": 33,
      "outputs": [
        {
          "output_type": "execute_result",
          "data": {
            "text/plain": [
              "(tensor([[ 2.,  3.,  8.,  9.],\n",
              "         [ 9., 12., 15., 18.],\n",
              "         [20., 21., 22., 23.]]),\n",
              " tensor([[ 2.,  2.,  6.,  6.],\n",
              "         [ 5.,  7.,  9., 11.],\n",
              "         [12., 12., 12., 12.]]))"
            ]
          },
          "metadata": {},
          "execution_count": 33
        }
      ]
    },
    {
      "cell_type": "code",
      "source": [
        "X<Y"
      ],
      "metadata": {
        "id": "P6p9atK0rfGG",
        "outputId": "a2cdfef3-525c-49a4-9c17-7a9c0256005c",
        "colab": {
          "base_uri": "https://localhost:8080/"
        }
      },
      "id": "P6p9atK0rfGG",
      "execution_count": 34,
      "outputs": [
        {
          "output_type": "execute_result",
          "data": {
            "text/plain": [
              "tensor([[False, False, False, False],\n",
              "        [False, False, False, False],\n",
              "        [False, False, False, False]])"
            ]
          },
          "metadata": {},
          "execution_count": 34
        }
      ]
    },
    {
      "cell_type": "code",
      "source": [
        "X>Y"
      ],
      "metadata": {
        "id": "PJXG1AtCriq1",
        "outputId": "c09a6097-71cb-4512-9eaa-5a2260b67c7c",
        "colab": {
          "base_uri": "https://localhost:8080/"
        }
      },
      "id": "PJXG1AtCriq1",
      "execution_count": 35,
      "outputs": [
        {
          "output_type": "execute_result",
          "data": {
            "text/plain": [
              "tensor([[False,  True,  True,  True],\n",
              "        [ True,  True,  True,  True],\n",
              "        [ True,  True,  True,  True]])"
            ]
          },
          "metadata": {},
          "execution_count": 35
        }
      ]
    },
    {
      "cell_type": "markdown",
      "source": [
        "2."
      ],
      "metadata": {
        "id": "4tLChipbsYpN"
      },
      "id": "4tLChipbsYpN"
    },
    {
      "cell_type": "markdown",
      "source": [
        "![image.png](data:image/png;base64,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)"
      ],
      "metadata": {
        "id": "BIffygVmsWUd"
      },
      "id": "BIffygVmsWUd"
    },
    {
      "cell_type": "code",
      "source": [
        "a=torch.tensor([[2,3,2],[9,6,1], [5,4,6]])\n",
        "b=torch.arange(3)\n",
        "a,b, a.shape, b.shape"
      ],
      "metadata": {
        "id": "vL6CGA2QrpSV",
        "outputId": "fec21c14-59a9-4201-831b-d293d825ecfb",
        "colab": {
          "base_uri": "https://localhost:8080/"
        }
      },
      "id": "vL6CGA2QrpSV",
      "execution_count": 42,
      "outputs": [
        {
          "output_type": "execute_result",
          "data": {
            "text/plain": [
              "(tensor([[2, 3, 2],\n",
              "         [9, 6, 1],\n",
              "         [5, 4, 6]]),\n",
              " tensor([0, 1, 2]),\n",
              " torch.Size([3, 3]),\n",
              " torch.Size([3]))"
            ]
          },
          "metadata": {},
          "execution_count": 42
        }
      ]
    },
    {
      "cell_type": "code",
      "source": [
        "a+b"
      ],
      "metadata": {
        "id": "9p7zTMeFtdS1",
        "outputId": "52f560bb-e589-423e-ca8a-b77dc0ee40de",
        "colab": {
          "base_uri": "https://localhost:8080/"
        }
      },
      "id": "9p7zTMeFtdS1",
      "execution_count": 43,
      "outputs": [
        {
          "output_type": "execute_result",
          "data": {
            "text/plain": [
              "tensor([[2, 4, 4],\n",
              "        [9, 7, 3],\n",
              "        [5, 5, 8]])"
            ]
          },
          "metadata": {},
          "execution_count": 43
        }
      ]
    },
    {
      "cell_type": "code",
      "source": [],
      "metadata": {
        "id": "JKowFBSbuDSE"
      },
      "id": "JKowFBSbuDSE",
      "execution_count": null,
      "outputs": []
    }
  ],
  "metadata": {
    "kernelspec": {
      "display_name": "Python 3",
      "name": "python3"
    },
    "language_info": {
      "name": "python"
    },
    "required_libs": [],
    "colab": {
      "provenance": []
    }
  },
  "nbformat": 4,
  "nbformat_minor": 5
}